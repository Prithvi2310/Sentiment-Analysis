{
 "cells": [
  {
   "cell_type": "code",
   "execution_count": 63,
   "metadata": {},
   "outputs": [
    {
     "data": {
      "text/html": [
       "<div>\n",
       "<style scoped>\n",
       "    .dataframe tbody tr th:only-of-type {\n",
       "        vertical-align: middle;\n",
       "    }\n",
       "\n",
       "    .dataframe tbody tr th {\n",
       "        vertical-align: top;\n",
       "    }\n",
       "\n",
       "    .dataframe thead th {\n",
       "        text-align: right;\n",
       "    }\n",
       "</style>\n",
       "<table border=\"1\" class=\"dataframe\">\n",
       "  <thead>\n",
       "    <tr style=\"text-align: right;\">\n",
       "      <th></th>\n",
       "      <th>review</th>\n",
       "      <th>sentiment</th>\n",
       "    </tr>\n",
       "  </thead>\n",
       "  <tbody>\n",
       "    <tr>\n",
       "      <th>0</th>\n",
       "      <td>One of the other reviewers has mentioned that ...</td>\n",
       "      <td>positive</td>\n",
       "    </tr>\n",
       "    <tr>\n",
       "      <th>1</th>\n",
       "      <td>A wonderful little production. The filming tec...</td>\n",
       "      <td>positive</td>\n",
       "    </tr>\n",
       "    <tr>\n",
       "      <th>2</th>\n",
       "      <td>I thought this was a wonderful way to spend ti...</td>\n",
       "      <td>positive</td>\n",
       "    </tr>\n",
       "    <tr>\n",
       "      <th>3</th>\n",
       "      <td>Basically there's a family where a little boy ...</td>\n",
       "      <td>negative</td>\n",
       "    </tr>\n",
       "    <tr>\n",
       "      <th>4</th>\n",
       "      <td>Petter Mattei's \"Love in the Time of Money\" is...</td>\n",
       "      <td>positive</td>\n",
       "    </tr>\n",
       "  </tbody>\n",
       "</table>\n",
       "</div>"
      ],
      "text/plain": [
       "                                              review sentiment\n",
       "0  One of the other reviewers has mentioned that ...  positive\n",
       "1  A wonderful little production. The filming tec...  positive\n",
       "2  I thought this was a wonderful way to spend ti...  positive\n",
       "3  Basically there's a family where a little boy ...  negative\n",
       "4  Petter Mattei's \"Love in the Time of Money\" is...  positive"
      ]
     },
     "execution_count": 63,
     "metadata": {},
     "output_type": "execute_result"
    }
   ],
   "source": [
    "#importing necessary libraries\n",
    "import pandas as pd\n",
    "import nltk\n",
    "from nltk.corpus import stopwords\n",
    "from sklearn.metrics.pairwise import cosine_similarity\n",
    "import heapq\n",
    "import numpy as np\n",
    "import spacy\n",
    "nlp = spacy.load(\"en_core_web_sm\")\n",
    "\n",
    "df = pd.read_csv(\"./Data/short_reviews.csv\")\n",
    "df.head()"
   ]
  },
  {
   "cell_type": "code",
   "execution_count": 64,
   "metadata": {},
   "outputs": [],
   "source": [
    "# Step 1: Sentence Segmentation\n",
    "#seperating sentences using spacy (punctuation marks work like delimitters. Sentences just maintains them as seperate sentences\n",
    "def process_text(text):\n",
    "    doc = nlp(text)\n",
    "    sentences = [sent.text for sent in doc.sents]\n",
    "    return sentences[0]"
   ]
  },
  {
   "cell_type": "code",
   "execution_count": 65,
   "metadata": {},
   "outputs": [],
   "source": [
    "# step 2: Tokenization\n",
    "def tokenize_text(text):\n",
    "    text = process_text(text)\n",
    "    tokenized_sents = nltk.sent_tokenize(text)\n",
    "    tokenized_sents = [nltk.word_tokenize(sent) for sent in tokenized_sents]\n",
    "    tokenized_sents = [remove_stop_words(tokens) for tokens in tokenized_sents]\n",
    "\n",
    "    return tokenized_sents"
   ]
  },
  {
   "cell_type": "code",
   "execution_count": 66,
   "metadata": {},
   "outputs": [],
   "source": [
    "# Step 3: removing stop words according to Buckely list of stop words\n",
    "\n",
    "#for which we ned to first take the buckley stopword list as a list\n",
    "with open(\"./Data/Buckley-Salton-stopword-list.txt\", \"r\") as words:\n",
    "\tlines = words.readlines()\n",
    "stop_words =[]\n",
    "for words in lines:\n",
    "    as_list = words.split(\",\")\n",
    "    stop_words.append(as_list[0].replace(\"\\n\", \"\"))"
   ]
  },
  {
   "cell_type": "code",
   "execution_count": 67,
   "metadata": {},
   "outputs": [],
   "source": [
    "def remove_stop_words(text):\n",
    "    return [word for word in text if word.lower() not in stop_words]"
   ]
  },
  {
   "cell_type": "code",
   "execution_count": 68,
   "metadata": {},
   "outputs": [],
   "source": [
    "# Step 4:  Extracting sentences \n",
    "def F_first_K_Sents(text, f):\n",
    "    return text[:f]\n",
    "\n",
    "# selecting only important parts of sentences and making a score\n",
    "def SelectImpSentences(scores, N, sentences):\n",
    "    selected_indices = heapq.nlargest(N, scores, key=scores.get)\n",
    "    selected_sentences = [sentences[i] for i in selected_indices]\n",
    "    return [sentence for sublist in selected_sentences for sentence in sublist]"
   ]
  },
  {
   "cell_type": "code",
   "execution_count": 69,
   "metadata": {},
   "outputs": [],
   "source": [
    "# Step 5: combining all fucntions and finding the score of best sentences\n",
    "def extractiveApproach(dataset, f, N):\n",
    "    output_dataset = []\n",
    "    for input_text in dataset:\n",
    "        important_sentences = []\n",
    "\n",
    "        #calling the tokenization function\n",
    "        tokenized_sents = tokenize_text(input_text)\n",
    "\n",
    "        # calling the Sentence Extracting fucntion\n",
    "        first_k_sents = F_first_K_Sents(tokenized_sents, f)\n",
    "        \n",
    "        #finding the best score words and sentences\n",
    "        sentence_embeddings = [np.mean(np.array([token.vector for token in nlp(' '.join(tokens))]), axis=0) for tokens in first_k_sents]\n",
    "        similarity_matrix = cosine_similarity(sentence_embeddings, sentence_embeddings)\n",
    "        \n",
    "        #findng the important sentence\n",
    "        for i, sent in enumerate(first_k_sents):\n",
    "            scores = {j: similarity_matrix[i][j] for j in range(len(first_k_sents))}\n",
    "            important_sentences.append(sent)\n",
    "        \n",
    "        selected_sentences = SelectImpSentences(scores, N, first_k_sents)\n",
    "        summary = ' '.join(selected_sentences)\n",
    "        \n",
    "        output_dataset.append(summary)\n",
    "    \n",
    "    return output_dataset"
   ]
  },
  {
   "cell_type": "code",
   "execution_count": 70,
   "metadata": {},
   "outputs": [
    {
     "name": "stdout",
     "output_type": "stream",
     "text": [
      ", Annarhysa Albert\n",
      "Mumbai favourite place\n",
      "Listen carefully\n"
     ]
    }
   ],
   "source": [
    "# Example usage\n",
    "dataset = [\n",
    "    \"Hi,my name is Annarhysa Albert\",\n",
    "    \"Mumbai is my favourite place\",\n",
    "    \"Listen to me carefully\"\n",
    "]\n",
    "\n",
    "f = 2  # Number of sentences to consider\n",
    "N = 5  # Number of words per sentence\n",
    "\n",
    "summarized_dataset = extractiveApproach(dataset, f, N)\n",
    "for summary in summarized_dataset:\n",
    "    print(summary)"
   ]
  },
  {
   "cell_type": "code",
   "execution_count": 71,
   "metadata": {},
   "outputs": [
    {
     "data": {
      "text/html": [
       "<div>\n",
       "<style scoped>\n",
       "    .dataframe tbody tr th:only-of-type {\n",
       "        vertical-align: middle;\n",
       "    }\n",
       "\n",
       "    .dataframe tbody tr th {\n",
       "        vertical-align: top;\n",
       "    }\n",
       "\n",
       "    .dataframe thead th {\n",
       "        text-align: right;\n",
       "    }\n",
       "</style>\n",
       "<table border=\"1\" class=\"dataframe\">\n",
       "  <thead>\n",
       "    <tr style=\"text-align: right;\">\n",
       "      <th></th>\n",
       "      <th>review</th>\n",
       "      <th>sentiment</th>\n",
       "      <th>Summary</th>\n",
       "    </tr>\n",
       "  </thead>\n",
       "  <tbody>\n",
       "    <tr>\n",
       "      <th>0</th>\n",
       "      <td>One of the other reviewers has mentioned that ...</td>\n",
       "      <td>positive</td>\n",
       "      <td>reviewers mentioned watching 1 Oz episode 'll ...</td>\n",
       "    </tr>\n",
       "    <tr>\n",
       "      <th>1</th>\n",
       "      <td>A wonderful little production. The filming tec...</td>\n",
       "      <td>positive</td>\n",
       "      <td>wonderful production .</td>\n",
       "    </tr>\n",
       "    <tr>\n",
       "      <th>2</th>\n",
       "      <td>I thought this was a wonderful way to spend ti...</td>\n",
       "      <td>positive</td>\n",
       "      <td>thought wonderful spend time hot summer weeken...</td>\n",
       "    </tr>\n",
       "    <tr>\n",
       "      <th>3</th>\n",
       "      <td>Basically there's a family where a little boy ...</td>\n",
       "      <td>negative</td>\n",
       "      <td>Basically 's family boy ( Jake ) thinks 's zom...</td>\n",
       "    </tr>\n",
       "    <tr>\n",
       "      <th>4</th>\n",
       "      <td>Petter Mattei's \"Love in the Time of Money\" is...</td>\n",
       "      <td>positive</td>\n",
       "      <td>Petter Mattei 's `` Love Time Money '' visuall...</td>\n",
       "    </tr>\n",
       "  </tbody>\n",
       "</table>\n",
       "</div>"
      ],
      "text/plain": [
       "                                              review sentiment  \\\n",
       "0  One of the other reviewers has mentioned that ...  positive   \n",
       "1  A wonderful little production. The filming tec...  positive   \n",
       "2  I thought this was a wonderful way to spend ti...  positive   \n",
       "3  Basically there's a family where a little boy ...  negative   \n",
       "4  Petter Mattei's \"Love in the Time of Money\" is...  positive   \n",
       "\n",
       "                                             Summary  \n",
       "0  reviewers mentioned watching 1 Oz episode 'll ...  \n",
       "1                             wonderful production .  \n",
       "2  thought wonderful spend time hot summer weeken...  \n",
       "3  Basically 's family boy ( Jake ) thinks 's zom...  \n",
       "4  Petter Mattei 's `` Love Time Money '' visuall...  "
      ]
     },
     "execution_count": 71,
     "metadata": {},
     "output_type": "execute_result"
    }
   ],
   "source": [
    "summarized_dataset = extractiveApproach(df['review'], f, N)\n",
    "df[\"Summary\"] = summarized_dataset\n",
    "df.head()"
   ]
  },
  {
   "cell_type": "code",
   "execution_count": 66,
   "metadata": {},
   "outputs": [],
   "source": [
    "#df.to_csv(\"Sumarized.csv\", index = False)"
   ]
  }
 ],
 "metadata": {
  "kernelspec": {
   "display_name": "Python 3",
   "language": "python",
   "name": "python3"
  },
  "language_info": {
   "codemirror_mode": {
    "name": "ipython",
    "version": 3
   },
   "file_extension": ".py",
   "mimetype": "text/x-python",
   "name": "python",
   "nbconvert_exporter": "python",
   "pygments_lexer": "ipython3",
   "version": "3.11.4"
  },
  "orig_nbformat": 4
 },
 "nbformat": 4,
 "nbformat_minor": 2
}
